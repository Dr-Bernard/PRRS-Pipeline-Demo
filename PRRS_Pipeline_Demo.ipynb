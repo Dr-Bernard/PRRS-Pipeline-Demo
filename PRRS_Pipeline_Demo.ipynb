{
 "cells": [
  {
   "cell_type": "markdown",
   "id": "cade6813",
   "metadata": {},
   "source": [
    "# PRRS Virus Epidemiology & Pathogen Informatics Pipeline (Demo)\n",
    "Author: Dr. Bernard Nwabueze Sunday (DVM, M.Sc)\n",
    "\n",
    "This demo notebook generates a small synthetic PRRS dataset and runs a reproducible pipeline:\n",
    "1. Data loading and cleaning\n",
    "2. Exploratory Data Analysis (EDA)\n",
    "3. Feature engineering\n",
    "4. Train a baseline Random Forest classifier to predict outbreak\n",
    "5. Save model and discuss next steps for genomic integration\n",
    "\n",
    "Open in Colab: https://colab.research.google.com/github/Dr-Bernard/PRRS-Pipeline-Demo/blob/main/notebooks/PRRS_Pipeline_Demo.ipynb\n"
   ]
  },
  {
   "cell_type": "markdown",
   "id": "eea9fe24",
   "metadata": {},
   "source": [
    "## 1. Setup\n",
    "Install required packages (Colab may already have most)."
   ]
  },
  {
   "cell_type": "code",
   "execution_count": null,
   "id": "8b17195a",
   "metadata": {},
   "outputs": [],
   "source": [
    "# Install packages if running in Google Colab (uncomment if needed)\n",
    "# !pip install scikit-learn pandas numpy matplotlib biopython joblib plotly\n",
    "\n",
    "import pandas as pd\n",
    "import numpy as np\n",
    "import matplotlib.pyplot as plt\n",
    "from sklearn.model_selection import train_test_split\n",
    "from sklearn.ensemble import RandomForestClassifier\n",
    "from sklearn.metrics import classification_report, confusion_matrix, ConfusionMatrixDisplay\n",
    "import joblib\n",
    "print(\"Libraries loaded. Pandas version:\", pd.__version__)"
   ]
  },
  {
   "cell_type": "markdown",
   "id": "fb52ea8c",
   "metadata": {},
   "source": [
    "## 2. Load synthetic dataset"
   ]
  },
  {
   "cell_type": "code",
   "execution_count": null,
   "id": "1a442391",
   "metadata": {},
   "outputs": [],
   "source": [
    "import os\n",
    "data_path = \"/mnt/data/data/synthetic_prrs_data.csv\"\n",
    "df = pd.read_csv(data_path)\n",
    "print(\"Rows:\", len(df))\n",
    "df.head()"
   ]
  },
  {
   "cell_type": "markdown",
   "id": "00cc3b48",
   "metadata": {},
   "source": [
    "## 3. Exploratory Data Analysis (EDA)"
   ]
  },
  {
   "cell_type": "code",
   "execution_count": null,
   "id": "a6edc86a",
   "metadata": {},
   "outputs": [],
   "source": [
    "# Basic summaries\n",
    "print(df.describe(include='all'))\n",
    "\n",
    "# Outbreak counts by strain\n",
    "strain_outbreak = df.groupby('Strain')['Outbreak'].mean().reset_index().sort_values('Outbreak', ascending=False)\n",
    "print(\"\\nOutbreak rate by Strain:\")\n",
    "print(strain_outbreak)\n",
    "\n",
    "# Plot outbreak rate by strain (matplotlib)\n",
    "plt.figure(figsize=(6,4))\n",
    "plt.bar(strain_outbreak['Strain'], strain_outbreak['Outbreak'])\n",
    "plt.title('Outbreak Rate by Strain')\n",
    "plt.xlabel('Strain')\n",
    "plt.ylabel('Outbreak rate')\n",
    "plt.tight_layout()\n",
    "plt.show()"
   ]
  },
  {
   "cell_type": "markdown",
   "id": "b95651af",
   "metadata": {},
   "source": [
    "## 4. Feature engineering"
   ]
  },
  {
   "cell_type": "code",
   "execution_count": null,
   "id": "f3d593b6",
   "metadata": {},
   "outputs": [],
   "source": [
    "# Simple feature engineering: encode categorical and create per-pig metrics\n",
    "df2 = df.copy()\n",
    "# One-hot encode strain\n",
    "df2 = pd.get_dummies(df2, columns=['Strain'], drop_first=True)\n",
    "# Per pig mortality\n",
    "df2['Mortality_per_1000'] = df2['Mortality'] / df2['Pig_Count'] * 1000\n",
    "\n",
    "features = ['Pig_Count','Temperature_C','Biosecurity_Score','Vaccination_Coverage','Antibody_Level',\n",
    "            'Strain_PRRSV_B','Strain_PRRSV_C','Strain_PRRSV_D']\n",
    "target = 'Outbreak'\n",
    "X = df2[features].fillna(0)\n",
    "y = df2[target]\n",
    "\n",
    "X.head()"
   ]
  },
  {
   "cell_type": "markdown",
   "id": "2f642fdc",
   "metadata": {},
   "source": [
    "## 5. Modeling — Baseline Random Forest Classifier"
   ]
  },
  {
   "cell_type": "code",
   "execution_count": null,
   "id": "cb008a58",
   "metadata": {},
   "outputs": [],
   "source": [
    "# Train/test split\n",
    "X_train, X_test, y_train, y_test = train_test_split(X, y, test_size=0.2, stratify=y, random_state=42)\n",
    "\n",
    "# Train a Random Forest\n",
    "model = RandomForestClassifier(n_estimators=200, random_state=42)\n",
    "model.fit(X_train, y_train)\n",
    "\n",
    "# Predictions\n",
    "y_pred = model.predict(X_test)\n",
    "print(\"Classification report:\\n\", classification_report(y_test, y_pred))\n",
    "\n",
    "# Confusion matrix display\n",
    "disp = ConfusionMatrixDisplay(confusion_matrix=confusion_matrix(y_test, y_pred), display_labels=model.classes_)\n",
    "disp.plot()\n",
    "plt.title('Confusion Matrix — Outbreak Prediction')\n",
    "plt.show()\n",
    "\n",
    "# Feature importances\n",
    "importances = model.feature_importances_\n",
    "sorted_idx = np.argsort(importances)[::-1]\n",
    "for i in sorted_idx:\n",
    "    print(f\"{X.columns[i]}: {importances[i]:.4f}\")"
   ]
  },
  {
   "cell_type": "markdown",
   "id": "9418a193",
   "metadata": {},
   "source": [
    "## 6. Save model and artifacts"
   ]
  },
  {
   "cell_type": "code",
   "execution_count": null,
   "id": "1de308bb",
   "metadata": {},
   "outputs": [],
   "source": [
    "# Save the trained model and a sample of processed data\n",
    "os.makedirs('/mnt/data/models', exist_ok=True)\n",
    "joblib.dump(model, '/mnt/data/models/prrs_rf_model.pkl')\n",
    "X_test_sample = X_test.copy()\n",
    "X_test_sample['Outbreak_true'] = y_test.values\n",
    "X_test_sample.to_csv('/mnt/data/data/processed_test_sample.csv', index=False)\n",
    "print('Model and sample saved to /mnt/data/models and /mnt/data/data')"
   ]
  },
  {
   "cell_type": "markdown",
   "id": "e39f9706",
   "metadata": {},
   "source": [
    "## 7. Phylogenetic & Sequence Analysis — Placeholder\n",
    "This section shows where sequence-based analyses belong. For real PRRS analysis you'd:\n",
    "1. Collect PRRS sequences (FASTA) and metadata\n",
    "2. Align sequences with MAFFT\n",
    "3. Build trees with IQ-TREE or RAxML\n",
    "4. Run phylodynamic inference with BEAST\n",
    "\n",
    "Below is an illustrative placeholder for loading a FASTA file (not included in this demo)."
   ]
  },
  {
   "cell_type": "code",
   "execution_count": null,
   "id": "28f51078",
   "metadata": {},
   "outputs": [],
   "source": [
    "# Placeholder code - uncomment and use real files in practice\n",
    "# from Bio import SeqIO\n",
    "# fasta_path = '/path/to/prrs_sequences.fasta'\n",
    "# records = list(SeqIO.parse(fasta_path, 'fasta'))\n",
    "# print('Number of sequences:', len(records))\n",
    "# Example: write sequences to file or perform alignment with MAFFT (via subprocess)"
   ]
  },
  {
   "cell_type": "markdown",
   "id": "7eebcde8",
   "metadata": {},
   "source": [
    "## 8. Interactive Visualization (Plotly)\n",
    "Simple interactive scatter of Antibody level vs Temperature colored by outbreak."
   ]
  },
  {
   "cell_type": "code",
   "execution_count": null,
   "id": "16e788b4",
   "metadata": {},
   "outputs": [],
   "source": [
    "import plotly.express as px\n",
    "fig = px.scatter(df, x='Temperature_C', y='Antibody_Level', color=df['Outbreak'].astype(str),\n",
    "                 hover_data=['Farm_ID','Strain','Pig_Count'], title='Antibody Level vs Temperature (Outbreak colored)')\n",
    "fig.update_layout(height=600, width=900)\n",
    "fig.show()"
   ]
  },
  {
   "cell_type": "markdown",
   "id": "7608bdd3",
   "metadata": {},
   "source": [
    "## 9. Discussion & Next Steps\n",
    "- Replace synthetic data with real farm-level records and sequence FASTA files.\n",
    "- Integrate MAFFT/IQ-TREE/BEAST steps in a separate pipeline (Snakemake/Docker recommended).\n",
    "- Extend modeling to hierarchical models (GLMM) or phylodynamic-aware models to estimate strain-level effects.\n",
    "\n",
    "### How to use this notebook\n",
    "1. Upload your real `synthetic_prrs_data.csv` into `data/` or point to a cloud URL.\n",
    "2. Add FASTA sequences and run alignment and tree-building steps.\n",
    "3. Use model outputs as features in downstream analyses (e.g., outbreak risk dashboards)."
   ]
  }
 ],
 "metadata": {},
 "nbformat": 4,
 "nbformat_minor": 5
}
